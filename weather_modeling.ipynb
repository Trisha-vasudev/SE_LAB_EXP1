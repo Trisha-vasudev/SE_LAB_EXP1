{
  "nbformat": 4,
  "nbformat_minor": 0,
  "metadata": {
    "colab": {
      "provenance": [],
      "authorship_tag": "ABX9TyNJcEXm23Dh9nBJLHvWSrpb",
      "include_colab_link": true
    },
    "kernelspec": {
      "name": "python3",
      "display_name": "Python 3"
    },
    "language_info": {
      "name": "python"
    }
  },
  "cells": [
    {
      "cell_type": "markdown",
      "metadata": {
        "id": "view-in-github",
        "colab_type": "text"
      },
      "source": [
        "<a href=\"https://colab.research.google.com/github/Trisha-vasudev/SE_LAB_EXP1/blob/main/weather_modeling.ipynb\" target=\"_parent\"><img src=\"https://colab.research.google.com/assets/colab-badge.svg\" alt=\"Open In Colab\"/></a>"
      ]
    },
    {
      "cell_type": "markdown",
      "source": [
        "TRUSHA VASUDEV WADAKI"
      ],
      "metadata": {
        "id": "FrH21ln-QG5A"
      }
    },
    {
      "cell_type": "markdown",
      "source": [
        "2023007303"
      ],
      "metadata": {
        "id": "Kipu0fWAQNjB"
      }
    },
    {
      "cell_type": "code",
      "execution_count": null,
      "metadata": {
        "colab": {
          "base_uri": "https://localhost:8080/"
        },
        "id": "EozkRXXtrCaN",
        "outputId": "2ad14d96-d583-47b1-95d8-c29ba71ef047"
      },
      "outputs": [
        {
          "output_type": "stream",
          "name": "stdout",
          "text": [
            "the Temperature at time 4 is 165\n"
          ]
        }
      ],
      "source": [
        "#Evaluation Function :\n",
        "\n",
        "def Temperature_modeling(a,b,c,time):\n",
        "  temp  = a*time**2+b*time+c\n",
        "  return temp\n",
        "\n",
        "\n",
        "# Version 1: Hardcoding the variables:\n",
        "\n",
        "a=8\n",
        "b=9\n",
        "c=1\n",
        "time = 4\n",
        "temp = Temperature_modeling(a,b,c,time)\n",
        "print(f\"the Temperature at time {time} is {temp}\")"
      ]
    },
    {
      "cell_type": "code",
      "source": [
        "# Version 2 : Keyboard Input:\n",
        "temp = Temperature_modeling(float(input('Enter a:')),float(input('Enter b:')),float(input('Enter c:')),int(input('Enter Time:')))\n",
        "print(f\"the Temperature at time {time} is {temp}\")\n"
      ],
      "metadata": {
        "colab": {
          "base_uri": "https://localhost:8080/"
        },
        "id": "BFImJx8arhxO",
        "outputId": "5f241a42-c714-4c3b-9d54-f2e992e44be7"
      },
      "execution_count": null,
      "outputs": [
        {
          "output_type": "stream",
          "name": "stdout",
          "text": [
            "Enter a:1\n",
            "Enter b:3\n",
            "Enter c:5\n",
            "Enter Time:9\n",
            "the Temperature at time 4 is 113.0\n"
          ]
        }
      ]
    },
    {
      "cell_type": "code",
      "source": [],
      "metadata": {
        "id": "Ew2kBYCvUd7i"
      },
      "execution_count": null,
      "outputs": []
    },
    {
      "cell_type": "code",
      "source": [
        "# Version 3: Single Input from the text file:\n",
        "with open('whether_single.txt','r') as files:\n",
        "  file = files.readline().strip() # Read the line and remove leading/trailing whitespace\n",
        "  a,b,c,time = file.split()\n",
        "  a = float(a)\n",
        "  b= float(b)\n",
        "  c = float(c)\n",
        "  time = int(time)\n",
        "  temp = Temperature_modeling(a,b,c,time)\n",
        "  print(f'The Temperature at time {time} is {temp}')"
      ],
      "metadata": {
        "id": "8TqKjd2Nru50"
      },
      "execution_count": null,
      "outputs": []
    },
    {
      "cell_type": "code",
      "source": [
        "# Version 4: Multiple Input from the text file\n",
        "with open('whether_multiple.txt','r') as files:\n",
        "  for file in files:\n",
        "    a,b,c,time = file.strip().split();\n",
        "    a = float(a)\n",
        "    b=float(b)\n",
        "    c = float(c)\n",
        "    time = int(time)\n",
        "\n",
        "    temp = Temperature_modeling(a,b,c,time)\n",
        "    print(f'The Temperature at time {time} is {temp}')\n"
      ],
      "metadata": {
        "id": "tz6bW2KtvsBh"
      },
      "execution_count": null,
      "outputs": []
    }
  ]
}