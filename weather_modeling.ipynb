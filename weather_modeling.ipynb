{
  "nbformat": 4,
  "nbformat_minor": 0,
  "metadata": {
    "colab": {
      "provenance": [],
      "authorship_tag": "ABX9TyMDzdLiWHjZGiCfilxxLzGH",
      "include_colab_link": true
    },
    "kernelspec": {
      "name": "python3",
      "display_name": "Python 3"
    },
    "language_info": {
      "name": "python"
    }
  },
  "cells": [
    {
      "cell_type": "markdown",
      "metadata": {
        "id": "view-in-github",
        "colab_type": "text"
      },
      "source": [
        "<a href=\"https://colab.research.google.com/github/Trisha-vasudev/SE_LAB_EXP1/blob/main/weather_modeling.ipynb\" target=\"_parent\"><img src=\"https://colab.research.google.com/assets/colab-badge.svg\" alt=\"Open In Colab\"/></a>"
      ]
    },
    {
      "cell_type": "markdown",
      "source": [
        "TRUSHA VASUDEV WADAKI"
      ],
      "metadata": {
        "id": "FrH21ln-QG5A"
      }
    },
    {
      "cell_type": "markdown",
      "source": [
        "2023007303"
      ],
      "metadata": {
        "id": "Kipu0fWAQNjB"
      }
    },
    {
      "cell_type": "code",
      "execution_count": 12,
      "metadata": {
        "colab": {
          "base_uri": "https://localhost:8080/"
        },
        "id": "EozkRXXtrCaN",
        "outputId": "a9c09de8-713e-4c27-8ab3-a469c561d5ac"
      },
      "outputs": [
        {
          "output_type": "stream",
          "name": "stdout",
          "text": [
            "the Temperature at time 4 is 165\n"
          ]
        }
      ],
      "source": [
        "#Evaluation Function :\n",
        "\n",
        "def Temperature_modeling(a,b,c,time):\n",
        "  temp  = a*time**2+b*time+c\n",
        "  return temp\n",
        "\n",
        "\n",
        "# Version 1: Hardcoding the variables:\n",
        "\n",
        "a=8\n",
        "b=9\n",
        "c=1\n",
        "time = 4\n",
        "temp = Temperature_modeling(a,b,c,time)\n",
        "print(f\"the Temperature at time {time} is {temp}\")"
      ]
    },
    {
      "cell_type": "code",
      "source": [
        "# Version 2 : Keyboard Input:\n",
        "temp = Temperature_modeling(float(input('Enter a:')),float(input('Enter b:')),float(input('Enter c:')),int(input('Enter Time:')))\n",
        "print(f\"the Temperature at time {time} is {temp}\")\n"
      ],
      "metadata": {
        "colab": {
          "base_uri": "https://localhost:8080/"
        },
        "id": "BFImJx8arhxO",
        "outputId": "faed0dac-bbc4-42b8-ca18-d2b748e452fe"
      },
      "execution_count": 13,
      "outputs": [
        {
          "output_type": "stream",
          "name": "stdout",
          "text": [
            "Enter a:1\n",
            "Enter b:3\n",
            "Enter c:5\n",
            "Enter Time:9\n",
            "the Temperature at time 4 is 113.0\n"
          ]
        }
      ]
    },
    {
      "cell_type": "code",
      "source": [
        "# Create and write data to the file\n",
        "with open('whether_single.txt', 'w') as file:\n",
        "    file.write(\"1.2 2.4 3.6 5\")"
      ],
      "metadata": {
        "id": "Ew2kBYCvUd7i"
      },
      "execution_count": 22,
      "outputs": []
    },
    {
      "cell_type": "code",
      "source": [
        "# Version 3: Single Input from the text file:\n",
        "with open('whether_single.txt','r') as files:\n",
        "  file = files.readline().strip() # Read the line and remove leading/trailing whitespace\n",
        "  a,b,c,time = file.split()\n",
        "  a = float(a)\n",
        "  b= float(b)\n",
        "  c = float(c)\n",
        "  time = int(time)\n",
        "  temp = Temperature_modeling(a,b,c,time)\n",
        "  print(f'The Temperature at time {time} is {temp}')"
      ],
      "metadata": {
        "id": "8TqKjd2Nru50",
        "colab": {
          "base_uri": "https://localhost:8080/"
        },
        "outputId": "2c128ec6-0437-4604-8465-8a5464773d6d"
      },
      "execution_count": 23,
      "outputs": [
        {
          "output_type": "stream",
          "name": "stdout",
          "text": [
            "The Temperature at time 5 is 45.6\n"
          ]
        }
      ]
    },
    {
      "cell_type": "code",
      "source": [
        "# Step 1: Create the file with multiple lines of input\n",
        "with open('whether_multiple.txt', 'r') as f:\n",
        "    f.write(\"1.0 2.0 3.0 2\\n\")\n",
        "    f.write(\"0.5 1.5 2.5 4\\n\")\n",
        "    f.write(\"2.0 0.0 1.0 3\\n\")"
      ],
      "metadata": {
        "id": "60y_Wp5vV8tW"
      },
      "execution_count": 24,
      "outputs": []
    },
    {
      "cell_type": "code",
      "source": [
        "# Version 4: Multiple Input from the text file\n",
        "with open('whether_multiple.txt','w') as files:\n",
        "  for file in files:\n",
        "    a,b,c,time = file.strip().split();\n",
        "    a = float(a)\n",
        "    b=float(b)\n",
        "    c = float(c)\n",
        "    time = int(time)\n",
        "\n",
        "    temp = Temperature_modeling(a,b,c,time)\n",
        "    print(f'The Temperature at time {time} is {temp}')\n"
      ],
      "metadata": {
        "id": "tz6bW2KtvsBh",
        "colab": {
          "base_uri": "https://localhost:8080/",
          "height": 219
        },
        "outputId": "0606371f-33f8-4a56-c2ac-0ada3e9fedb2"
      },
      "execution_count": 30,
      "outputs": [
        {
          "output_type": "error",
          "ename": "UnsupportedOperation",
          "evalue": "not readable",
          "traceback": [
            "\u001b[0;31m---------------------------------------------------------------------------\u001b[0m",
            "\u001b[0;31mUnsupportedOperation\u001b[0m                      Traceback (most recent call last)",
            "\u001b[0;32m/tmp/ipython-input-30-356109460.py\u001b[0m in \u001b[0;36m<cell line: 0>\u001b[0;34m()\u001b[0m\n\u001b[1;32m      1\u001b[0m \u001b[0;31m# Version 4: Multiple Input from the text file\u001b[0m\u001b[0;34m\u001b[0m\u001b[0;34m\u001b[0m\u001b[0m\n\u001b[1;32m      2\u001b[0m \u001b[0;32mwith\u001b[0m \u001b[0mopen\u001b[0m\u001b[0;34m(\u001b[0m\u001b[0;34m'whether_multiple.txt'\u001b[0m\u001b[0;34m,\u001b[0m\u001b[0;34m'w'\u001b[0m\u001b[0;34m)\u001b[0m \u001b[0;32mas\u001b[0m \u001b[0mfiles\u001b[0m\u001b[0;34m:\u001b[0m\u001b[0;34m\u001b[0m\u001b[0;34m\u001b[0m\u001b[0m\n\u001b[0;32m----> 3\u001b[0;31m   \u001b[0;32mfor\u001b[0m \u001b[0mfile\u001b[0m \u001b[0;32min\u001b[0m \u001b[0mfiles\u001b[0m\u001b[0;34m:\u001b[0m\u001b[0;34m\u001b[0m\u001b[0;34m\u001b[0m\u001b[0m\n\u001b[0m\u001b[1;32m      4\u001b[0m     \u001b[0ma\u001b[0m\u001b[0;34m,\u001b[0m\u001b[0mb\u001b[0m\u001b[0;34m,\u001b[0m\u001b[0mc\u001b[0m\u001b[0;34m,\u001b[0m\u001b[0mtime\u001b[0m \u001b[0;34m=\u001b[0m \u001b[0mfile\u001b[0m\u001b[0;34m.\u001b[0m\u001b[0mstrip\u001b[0m\u001b[0;34m(\u001b[0m\u001b[0;34m)\u001b[0m\u001b[0;34m.\u001b[0m\u001b[0msplit\u001b[0m\u001b[0;34m(\u001b[0m\u001b[0;34m)\u001b[0m\u001b[0;34m;\u001b[0m\u001b[0;34m\u001b[0m\u001b[0;34m\u001b[0m\u001b[0m\n\u001b[1;32m      5\u001b[0m     \u001b[0ma\u001b[0m \u001b[0;34m=\u001b[0m \u001b[0mfloat\u001b[0m\u001b[0;34m(\u001b[0m\u001b[0ma\u001b[0m\u001b[0;34m)\u001b[0m\u001b[0;34m\u001b[0m\u001b[0;34m\u001b[0m\u001b[0m\n",
            "\u001b[0;31mUnsupportedOperation\u001b[0m: not readable"
          ]
        }
      ]
    }
  ]
}